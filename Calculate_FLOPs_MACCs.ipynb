{
  "nbformat": 4,
  "nbformat_minor": 0,
  "metadata": {
    "colab": {
      "name": "Calculate FLOPs MACCs.ipynb",
      "provenance": [],
      "collapsed_sections": []
    },
    "kernelspec": {
      "name": "python3",
      "display_name": "Python 3"
    },
    "language_info": {
      "name": "python"
    }
  },
  "cells": [
    {
      "cell_type": "markdown",
      "metadata": {
        "id": "XioqwXsDe3_T"
      },
      "source": [
        "####In this document we will see how to calculate the FLOPs for KERAS model"
      ]
    },
    {
      "cell_type": "code",
      "metadata": {
        "id": "cQBckzYjexT2"
      },
      "source": [
        "#Install package\n",
        "#Requirements Python 3.6+ & Tensorflow 2.2+\n",
        "\n",
        "!pip install keras-flops"
      ],
      "execution_count": null,
      "outputs": []
    },
    {
      "cell_type": "code",
      "metadata": {
        "id": "TKwl0X2QfQGT"
      },
      "source": [
        "#import packages\n",
        "\n",
        "from tensorflow.keras import Model, Input\n",
        "from tensorflow.keras.layers import Dense, Flatten, Conv2D, MaxPooling2D, Dropout, Conv2DTranspose,  BatchNormalization, Activation\n"
      ],
      "execution_count": 2,
      "outputs": []
    },
    {
      "cell_type": "code",
      "metadata": {
        "id": "qH3vsdmgfWgc"
      },
      "source": [
        "inp = Input((512, 512, 1))\n",
        "x = BatchNormalization(input_shape=(512, 512, 1),name='input0',)(inp)\n",
        "\n",
        "x = Conv2D(8, (3, 3), input_shape=(512, 512, 1), padding='same',strides=(1, 1), activation='relu')(x)\n",
        "x = Activation('relu')(x)\n",
        "\n",
        "x = Conv2D(16, (3, 3), input_shape=(512, 512, 1), padding='same',strides=(1, 1), activation='relu')(x)\n",
        "x = Activation('relu')(x)\n",
        "\n",
        "x = Conv2DTranspose(32, (3, 3), input_shape=(512, 512, 1), padding='same',strides=(1, 1), activation='relu')(x)\n",
        "x = Activation('relu')(x)\n",
        "\n",
        "x = Conv2DTranspose(16, (5, 5), input_shape=(512, 512, 1), padding='same',strides=(1, 1), activation='relu')(x)\n",
        "x = Activation('relu')(x)\n",
        "\n",
        "out = Conv2DTranspose(1, (5, 5), input_shape=(512, 512, 1), padding='same',strides=(1, 1), activation='relu',name='output0')(x)\n",
        "model = Model(inp, out)"
      ],
      "execution_count": 18,
      "outputs": []
    },
    {
      "cell_type": "code",
      "metadata": {
        "colab": {
          "base_uri": "https://localhost:8080/"
        },
        "id": "et2o6tX1fnwH",
        "outputId": "b513738e-c2d1-4a0b-a5ff-554b2d3ee451"
      },
      "source": [
        "model.summary()"
      ],
      "execution_count": 19,
      "outputs": [
        {
          "output_type": "stream",
          "text": [
            "Model: \"model_4\"\n",
            "_________________________________________________________________\n",
            "Layer (type)                 Output Shape              Param #   \n",
            "=================================================================\n",
            "input_5 (InputLayer)         [(None, 512, 512, 1)]     0         \n",
            "_________________________________________________________________\n",
            "input0 (BatchNormalization)  (None, 512, 512, 1)       4         \n",
            "_________________________________________________________________\n",
            "conv2d_4 (Conv2D)            (None, 512, 512, 8)       80        \n",
            "_________________________________________________________________\n",
            "activation_12 (Activation)   (None, 512, 512, 8)       0         \n",
            "_________________________________________________________________\n",
            "conv2d_5 (Conv2D)            (None, 512, 512, 16)      1168      \n",
            "_________________________________________________________________\n",
            "activation_13 (Activation)   (None, 512, 512, 16)      0         \n",
            "_________________________________________________________________\n",
            "conv2d_transpose_8 (Conv2DTr (None, 512, 512, 32)      4640      \n",
            "_________________________________________________________________\n",
            "activation_14 (Activation)   (None, 512, 512, 32)      0         \n",
            "_________________________________________________________________\n",
            "conv2d_transpose_9 (Conv2DTr (None, 512, 512, 16)      12816     \n",
            "_________________________________________________________________\n",
            "activation_15 (Activation)   (None, 512, 512, 16)      0         \n",
            "_________________________________________________________________\n",
            "output0 (Conv2DTranspose)    (None, 512, 512, 1)       401       \n",
            "=================================================================\n",
            "Total params: 19,109\n",
            "Trainable params: 19,107\n",
            "Non-trainable params: 2\n",
            "_________________________________________________________________\n"
          ],
          "name": "stdout"
        }
      ]
    },
    {
      "cell_type": "markdown",
      "metadata": {
        "id": "L3iSiNn7ibf4"
      },
      "source": [
        "####Note : 1 MACC = 2 Flops (1 Mutlitiplication + 1 Addition)"
      ]
    },
    {
      "cell_type": "code",
      "metadata": {
        "colab": {
          "base_uri": "https://localhost:8080/"
        },
        "id": "j8yjbw7afqPp",
        "outputId": "b84a3458-6c2a-4a52-d182-0257556e2006"
      },
      "source": [
        "from keras_flops import get_flops\n",
        "flops = get_flops(model, batch_size=1)\n",
        "print(f\"FLOPs: {flops / 10 ** 9:.7} GFlops or BFlops\")\n",
        "print(f\"MACCs: {0.5*flops / 10 ** 9:.7} MACCs\")"
      ],
      "execution_count": 21,
      "outputs": [
        {
          "output_type": "stream",
          "text": [
            "FLOPs: 9.99791 GFlops or BFlops\n",
            "MACCs: 4.998955 MACCs\n"
          ],
          "name": "stdout"
        }
      ]
    },
    {
      "cell_type": "markdown",
      "metadata": {
        "id": "EoO-xNculFfZ"
      },
      "source": [
        "#Tried and not working properly"
      ]
    },
    {
      "cell_type": "markdown",
      "metadata": {
        "id": "uM-42rFrltmZ"
      },
      "source": [
        "##### All the below get_flops function was not working fo the custom developed model shown above\n",
        "\n",
        "\n"
      ]
    },
    {
      "cell_type": "code",
      "metadata": {
        "id": "Kn-RRKb_f8CK"
      },
      "source": [
        "def get_flops(model_h5_path):\n",
        "    session = tf.compat.v1.Session()\n",
        "    graph = tf.compat.v1.get_default_graph()\n",
        "\n",
        "\n",
        "    with graph.as_default():\n",
        "        with session.as_default():\n",
        "            model = tf.keras.models.load_model(model_h5_path)\n",
        "\n",
        "            run_meta = tf.compat.v1.RunMetadata()\n",
        "            opts = tf.compat.v1.profiler.ProfileOptionBuilder.float_operation()\n",
        "\n",
        "            # Optional: save printed results to file\n",
        "            # flops_log_path = os.path.join(tempfile.gettempdir(), 'tf_flops_log.txt')\n",
        "            # opts['output'] = 'file:outfile={}'.format(flops_log_path)\n",
        "            # We use the Keras session graph in the call to the profiler.\n",
        "            flops = tf.compat.v1.profiler.profile(graph=graph,\n",
        "                                                  run_meta=run_meta, cmd='op', options=opts)\n",
        "\n",
        "            return flops.total_float_ops"
      ],
      "execution_count": 22,
      "outputs": []
    },
    {
      "cell_type": "code",
      "metadata": {
        "id": "JJqIdjd9lQqg"
      },
      "source": [
        "def get_flops2():\n",
        "    session = tf.compat.v1.Session()\n",
        "    graph = tf.compat.v1.get_default_graph()\n",
        "\n",
        "    with graph.as_default():\n",
        "        with session.as_default():\n",
        "            #model = tf.keras.applications.MobileNet(\n",
        "             #       alpha=1, weights=None, input_tensor=tf.compat.v1.placeholder('float32', shape=(1, 224, 224, 3)))\n",
        "            model = model1\n",
        "            run_meta = tf.compat.v1.RunMetadata()\n",
        "            opts = tf.compat.v1.profiler.ProfileOptionBuilder.float_operation()\n",
        "\n",
        "            # Optional: save printed results to file\n",
        "            # flops_log_path = os.path.join(tempfile.gettempdir(), 'tf_flops_log.txt')\n",
        "            # opts['output'] = 'file:outfile={}'.format(flops_log_path)\n",
        "\n",
        "            # We use the Keras session graph in the call to the profiler.\n",
        "            flops = tf.compat.v1.profiler.profile(graph=graph,\n",
        "                                                  run_meta=run_meta, cmd='op', options=opts)\n",
        "\n",
        "    tf.compat.v1.reset_default_graph()\n",
        "\n",
        "    return flops.total_float_ops"
      ],
      "execution_count": 23,
      "outputs": []
    },
    {
      "cell_type": "code",
      "metadata": {
        "id": "cCDDoCh5lSZK"
      },
      "source": [
        "# This code is for older version of tensorflow\n",
        "import tensorflow as tf\n",
        "import keras.backend as K\n",
        "\n",
        "\n",
        "def get_flops_0():\n",
        "    run_meta = tf.RunMetadata()\n",
        "    opts = tf.profiler.ProfileOptionBuilder.float_operation()\n",
        "\n",
        "    # We use the Keras session graph in the call to the profiler.\n",
        "    flops = tf.profiler.profile(graph=K.get_session().graph,\n",
        "                                run_meta=run_meta, cmd='op', options=opts)\n",
        "\n",
        "    return flops.total_float_ops  # Prints the \"flops\" of the model.\n",
        "\n",
        "\n",
        "# .... Define your model here ....\n",
        "# You need to have compiled your model before calling this.\n",
        "print(get_flops_0())"
      ],
      "execution_count": null,
      "outputs": []
    },
    {
      "cell_type": "code",
      "metadata": {
        "id": "PlDCuzW1lbWN"
      },
      "source": [
        ""
      ],
      "execution_count": null,
      "outputs": []
    }
  ]
}